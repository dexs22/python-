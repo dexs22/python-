{
 "cells": [
  {
   "cell_type": "code",
   "execution_count": 1,
   "metadata": {},
   "outputs": [
    {
     "name": "stdout",
     "output_type": "stream",
     "text": [
      "return the sum of x and y.\n",
      "Dcorated by decorated_by.\n",
      "7\n"
     ]
    }
   ],
   "source": [
    "def decorated_by(func):\n",
    "    func.__doc__+='\\nDcorated by decorated_by.'\n",
    "    print(func.__doc__)\n",
    "    return func\n",
    "\n",
    "def add(x,y):\n",
    "    \"\"\"return the sum of x and y.\"\"\"\n",
    "    return x + y\n",
    "\n",
    "add = decorated_by(add)#先运行decroated_by函数，返回一个add\n",
    "print(add(3,4))"
   ]
  },
  {
   "cell_type": "code",
   "execution_count": 3,
   "metadata": {},
   "outputs": [
    {
     "name": "stdout",
     "output_type": "stream",
     "text": [
      "return the sum of x and y.\n",
      "Dcorated by decorated_by_1.\n",
      "7\n",
      "return the sum of x and y.\n",
      "Dcorated by decorated_by_1.\n",
      "Dcorated by decorated_by_1.\n",
      "16\n",
      "return the sum of x and y.\n",
      "Dcorated by decorated_by_1.\n",
      "Dcorated by decorated_by_1.\n",
      "Dcorated by decorated_by_1.\n",
      "20\n"
     ]
    }
   ],
   "source": [
    "def decorated_by_1(func):\n",
    "    def pr(x,y):    #通过在函数中创建函数，让每次add调用都会输出print\n",
    "        func.__doc__+='\\nDcorated by decorated_by_1.'\n",
    "        print(func.__doc__)\n",
    "        return func(x,y)\n",
    "    return pr\n",
    "\n",
    "@decorated_by_1   #装饰器语法\n",
    "def add(x,y):\n",
    "    \"\"\"return the sum of x and y.\"\"\"\n",
    "    return x+y\n",
    "\n",
    "print(add(3,4)) #通过装饰器，函数实际上运行的是装饰后的状态\n",
    "print(add(8,8))\n",
    "print(add(10,10))  #函数也会创建一个自己的实例，这个实例中有内置属性，func.__doc__会记录每次调用add的状态，每次在print中输出。"
   ]
  },
  {
   "cell_type": "code",
   "execution_count": null,
   "metadata": {},
   "outputs": [],
   "source": [
    "\"\"\"\n",
    "使用装饰器最常见的理由：\n",
    "在执行被装饰方法之前或之后添加额外的功能。\n",
    "    包括检查身份、将函数结果记录到笃定位置等用例。\n",
    "清理传递给函数的参数值，从而确保参数值得一致性或使该值符合特定的模式。\n",
    "    清理函数的输出值，比如一个函数返回生成器，可以通过装饰器，返回一个Json或其他结构的数据。\n",
    "函数注册，在任务运行器中注册一个任务。\n",
    "\"\"\""
   ]
  },
  {
   "cell_type": "code",
   "execution_count": null,
   "metadata": {},
   "outputs": [],
   "source": [
    "\"\"\"\n",
    "装饰器仅仅是这样的函数：（通常）接受被装饰的可调用函数作为唯一参数，\n",
    "并且返回一个可调用函数。\n",
    "一个很重要的注意事项：当装饰器应用到装饰函数时（而不是调用装饰器时），\n",
    "会执行装饰代码本身。这一点可以从装饰器的本质中看到。\n",
    "\"\"\""
   ]
  },
  {
   "cell_type": "code",
   "execution_count": null,
   "metadata": {},
   "outputs": [],
   "source": [
    "#建立一个注册类来实现函数顺序运行"
   ]
  },
  {
   "cell_type": "code",
   "execution_count": 6,
   "metadata": {},
   "outputs": [],
   "source": [
    "class Registry:\n",
    "    def __init__(self):\n",
    "        self._functions = []\n",
    "    \n",
    "    def register(self,func):\n",
    "        self._functions.append(func)\n",
    "        return func\n",
    "    \n",
    "    def run_all(self,*args,**kwargs):\n",
    "        for func in self._functions:\n",
    "            func(*args,**kwargs)"
   ]
  },
  {
   "cell_type": "code",
   "execution_count": 14,
   "metadata": {},
   "outputs": [
    {
     "name": "stdout",
     "output_type": "stream",
     "text": [
      "foo\n",
      "f1\n",
      "f2\n"
     ]
    }
   ],
   "source": [
    "a = Registry()\n",
    "@a.register\n",
    "def foo(n='foo'):\n",
    "    print(n)\n",
    "    \n",
    "@a.register\n",
    "def f1(n='f1'):\n",
    "    print(n)\n",
    "    \n",
    "@a.register\n",
    "def f2(n='f2'):\n",
    "    print(n)\n",
    "    \n",
    "a.run_all()     #在函数被装饰的时候，就会加入Registry的实例a的内置属性_functions中，通过内置函数run_all()来运行"
   ]
  },
  {
   "cell_type": "code",
   "execution_count": null,
   "metadata": {},
   "outputs": [],
   "source": [
    "\"\"\"\n",
    "几种装饰器的常用方法\n",
    "添加额外功能\n",
    "\"\"\""
   ]
  },
  {
   "cell_type": "code",
   "execution_count": 32,
   "metadata": {},
   "outputs": [],
   "source": [
    "#简单的类型检查器\n",
    "\n",
    "def requires_ints(func):\n",
    "    \"\"\"\n",
    "    用来检查函数接受的数据是否为int类型，\n",
    "    如果是，则正常执行，否则抛出TypeError\n",
    "    \"\"\"\n",
    "    def inner(*args,**kwargs):\n",
    "        kwargs_values = [i for i in kwargs.values()]\n",
    "        for arg in list(args) + kwargs_values:\n",
    "            if not isinstance(arg,int):\n",
    "                raise TypeError('%s only accepts integers as arguments.'%func.__name__)\n",
    "        return func(*args,**kwargs)\n",
    "    return inner"
   ]
  },
  {
   "cell_type": "code",
   "execution_count": 27,
   "metadata": {},
   "outputs": [
    {
     "data": {
      "text/plain": [
       "8"
      ]
     },
     "execution_count": 27,
     "metadata": {},
     "output_type": "execute_result"
    }
   ],
   "source": [
    "@requires_ints\n",
    "def add(x,y):\n",
    "    \"\"\"\n",
    "    返回两个int型数值的和\n",
    "    \"\"\"\n",
    "    return x+y\n",
    "add(5,3)"
   ]
  },
  {
   "cell_type": "code",
   "execution_count": 25,
   "metadata": {},
   "outputs": [
    {
     "ename": "TypeError",
     "evalue": "add only accepts integers as arguments.",
     "output_type": "error",
     "traceback": [
      "\u001b[1;31m---------------------------------------------------------------------------\u001b[0m",
      "\u001b[1;31mTypeError\u001b[0m                                 Traceback (most recent call last)",
      "\u001b[1;32m<ipython-input-25-5db85e8047c1>\u001b[0m in \u001b[0;36m<module>\u001b[1;34m()\u001b[0m\n\u001b[1;32m----> 1\u001b[1;33m \u001b[0madd\u001b[0m\u001b[1;33m(\u001b[0m\u001b[1;36m1.2\u001b[0m\u001b[1;33m,\u001b[0m\u001b[1;36m3\u001b[0m\u001b[1;33m)\u001b[0m\u001b[1;33m\u001b[0m\u001b[0m\n\u001b[0m",
      "\u001b[1;32m<ipython-input-20-0d4b0dd4b527>\u001b[0m in \u001b[0;36minner\u001b[1;34m(*args, **kwargs)\u001b[0m\n\u001b[0;32m      6\u001b[0m         \u001b[1;32mfor\u001b[0m \u001b[0marg\u001b[0m \u001b[1;32min\u001b[0m \u001b[0mlist\u001b[0m\u001b[1;33m(\u001b[0m\u001b[0margs\u001b[0m\u001b[1;33m)\u001b[0m \u001b[1;33m+\u001b[0m \u001b[0mkwargs_values\u001b[0m\u001b[1;33m:\u001b[0m\u001b[1;33m\u001b[0m\u001b[0m\n\u001b[0;32m      7\u001b[0m             \u001b[1;32mif\u001b[0m \u001b[1;32mnot\u001b[0m \u001b[0misinstance\u001b[0m\u001b[1;33m(\u001b[0m\u001b[0marg\u001b[0m\u001b[1;33m,\u001b[0m\u001b[0mint\u001b[0m\u001b[1;33m)\u001b[0m\u001b[1;33m:\u001b[0m\u001b[1;33m\u001b[0m\u001b[0m\n\u001b[1;32m----> 8\u001b[1;33m                 \u001b[1;32mraise\u001b[0m \u001b[0mTypeError\u001b[0m\u001b[1;33m(\u001b[0m\u001b[1;34m'%s only accepts integers as arguments.'\u001b[0m\u001b[1;33m%\u001b[0m\u001b[0mfunc\u001b[0m\u001b[1;33m.\u001b[0m\u001b[0m__name__\u001b[0m\u001b[1;33m)\u001b[0m\u001b[1;33m\u001b[0m\u001b[0m\n\u001b[0m\u001b[0;32m      9\u001b[0m         \u001b[1;32mreturn\u001b[0m \u001b[0mfunc\u001b[0m\u001b[1;33m(\u001b[0m\u001b[1;33m*\u001b[0m\u001b[0margs\u001b[0m\u001b[1;33m,\u001b[0m\u001b[1;33m**\u001b[0m\u001b[0mkwargs\u001b[0m\u001b[1;33m)\u001b[0m\u001b[1;33m\u001b[0m\u001b[0m\n\u001b[0;32m     10\u001b[0m     \u001b[1;32mreturn\u001b[0m \u001b[0minner\u001b[0m\u001b[1;33m\u001b[0m\u001b[0m\n",
      "\u001b[1;31mTypeError\u001b[0m: add only accepts integers as arguments."
     ]
    }
   ],
   "source": [
    "add(1.2,3)"
   ]
  },
  {
   "cell_type": "code",
   "execution_count": 35,
   "metadata": {},
   "outputs": [
    {
     "name": "stdout",
     "output_type": "stream",
     "text": [
      "None\n"
     ]
    }
   ],
   "source": [
    "#帮助保存信息\n",
    "print(add.__doc__)   #被装饰器装饰的函数会失去很多基本的内置信息，但是这些信息可能会很重要，为了保存这些信息，可以使用wraps方法"
   ]
  },
  {
   "cell_type": "code",
   "execution_count": 36,
   "metadata": {},
   "outputs": [],
   "source": [
    "from functools import wraps\n",
    "def change_str_int(func):\n",
    "    @wraps(func)#让func函数的内置属性被保存下来\n",
    "    def inner(*args,**kwargs):\n",
    "        kwargs_values = [ord(i) for i in kwargs.values()]\n",
    "        in_args = (ord(i) for i in args)\n",
    "        in_kwargs = dict(zip(kwargs.keys(),kwargs_values))\n",
    "        return func(*in_args,**in_kwargs)\n",
    "    return inner"
   ]
  },
  {
   "cell_type": "code",
   "execution_count": 46,
   "metadata": {},
   "outputs": [
    {
     "name": "stdout",
     "output_type": "stream",
     "text": [
      "195\n",
      "add1 \n",
      "    接受一个字符作为参数，输出字符的ascII对应的值得和\n",
      "    \n"
     ]
    }
   ],
   "source": [
    "@change_str_int\n",
    "def add1(x,y):\n",
    "    \"\"\"\n",
    "    接受一个字符作为参数，输出字符的ascII对应的值得和\n",
    "    \"\"\"\n",
    "    return x + y\n",
    "\n",
    "print(add1('a','b'))\n",
    "print(add1.__name__,add1.__doc__)"
   ]
  },
  {
   "cell_type": "code",
   "execution_count": 53,
   "metadata": {},
   "outputs": [],
   "source": [
    "#用户验证：一种常见的用例（即在运行装饰方法之前执行某种正确性检查）是用户验证。\n",
    "\n",
    "class User: #建立一个User数据类型，返回客户输入，查看是否已经注册，从而给予权限\n",
    "    def __init__(self,username,email,password):\n",
    "        self.username = username\n",
    "        self.email = email\n",
    "        self.password = password\n",
    "    def __eq__(self,other):\n",
    "        if self.username == other.username and self.email == other.email and self.password == other.password:\n",
    "            return True\n",
    "        else:\n",
    "            return False\n",
    "        \n",
    "l = [User('wang','wang@126.com',123456),User('zhao','zhao@126.com',666666),User('li','li@126.com',111111)]#模仿注册数据\n",
    "\n",
    "        \n",
    "        \n",
    "def requires_user(func): \n",
    "    \"\"\"\n",
    "    修饰器，用来验证客户是否注册，从而给予权限\n",
    "    \"\"\"\n",
    "    @wraps(func)\n",
    "    def inner(user,register=l,*args,**kwargs):\n",
    "        \"\"\"\n",
    "        验证user中的数据是否在数据库中注册过，如果没有，则没有权限调用函数\n",
    "        \"\"\"\n",
    "        if user and isinstance(user,User):\n",
    "            if user in l:\n",
    "                return func(*args,**kwargs)\n",
    "            else :\n",
    "                raise KeyError('你输入的信息有误')\n",
    "        else:\n",
    "            raise KeyError(\"输入的信息不完整，或者有误\")\n",
    "    return inner"
   ]
  },
  {
   "cell_type": "code",
   "execution_count": 54,
   "metadata": {},
   "outputs": [
    {
     "name": "stdout",
     "output_type": "stream",
     "text": [
      "执行了函数run_1,参数为3\n"
     ]
    }
   ],
   "source": [
    "@requires_user\n",
    "def run_1(x):\n",
    "    \"\"\"\n",
    "    需要首先判断运行权限的函数\n",
    "    \"\"\"\n",
    "    print('执行了函数run_1,参数为%s'%x)\n",
    "\n",
    "user = User('wang','wang@126.com',123456)\n",
    "    \n",
    "run_1(user,x=3) #这里参数必须用x=3的形式输入"
   ]
  },
  {
   "cell_type": "code",
   "execution_count": 56,
   "metadata": {},
   "outputs": [
    {
     "ename": "KeyError",
     "evalue": "'你输入的信息有误'",
     "output_type": "error",
     "traceback": [
      "\u001b[1;31m---------------------------------------------------------------------------\u001b[0m",
      "\u001b[1;31mKeyError\u001b[0m                                  Traceback (most recent call last)",
      "\u001b[1;32m<ipython-input-56-c6e43780a849>\u001b[0m in \u001b[0;36m<module>\u001b[1;34m()\u001b[0m\n\u001b[1;32m----> 1\u001b[1;33m \u001b[0mrun_1\u001b[0m\u001b[1;33m(\u001b[0m\u001b[0mUser\u001b[0m\u001b[1;33m(\u001b[0m\u001b[1;34m'li'\u001b[0m\u001b[1;33m,\u001b[0m\u001b[1;34m'li@126.com'\u001b[0m\u001b[1;33m,\u001b[0m\u001b[1;36m232334\u001b[0m\u001b[1;33m)\u001b[0m\u001b[1;33m)\u001b[0m\u001b[1;33m\u001b[0m\u001b[0m\n\u001b[0m",
      "\u001b[1;32m<ipython-input-53-0788b7ff8961>\u001b[0m in \u001b[0;36minner\u001b[1;34m(user, register, *args, **kwargs)\u001b[0m\n\u001b[0;32m     29\u001b[0m                 \u001b[1;32mreturn\u001b[0m \u001b[0mfunc\u001b[0m\u001b[1;33m(\u001b[0m\u001b[1;33m*\u001b[0m\u001b[0margs\u001b[0m\u001b[1;33m,\u001b[0m\u001b[1;33m**\u001b[0m\u001b[0mkwargs\u001b[0m\u001b[1;33m)\u001b[0m\u001b[1;33m\u001b[0m\u001b[0m\n\u001b[0;32m     30\u001b[0m             \u001b[1;32melse\u001b[0m \u001b[1;33m:\u001b[0m\u001b[1;33m\u001b[0m\u001b[0m\n\u001b[1;32m---> 31\u001b[1;33m                 \u001b[1;32mraise\u001b[0m \u001b[0mKeyError\u001b[0m\u001b[1;33m(\u001b[0m\u001b[1;34m'你输入的信息有误'\u001b[0m\u001b[1;33m)\u001b[0m\u001b[1;33m\u001b[0m\u001b[0m\n\u001b[0m\u001b[0;32m     32\u001b[0m         \u001b[1;32melse\u001b[0m\u001b[1;33m:\u001b[0m\u001b[1;33m\u001b[0m\u001b[0m\n\u001b[0;32m     33\u001b[0m             \u001b[1;32mraise\u001b[0m \u001b[0mKeyError\u001b[0m\u001b[1;33m(\u001b[0m\u001b[1;34m\"输入的信息不完整，或者有误\"\u001b[0m\u001b[1;33m)\u001b[0m\u001b[1;33m\u001b[0m\u001b[0m\n",
      "\u001b[1;31mKeyError\u001b[0m: '你输入的信息有误'"
     ]
    }
   ],
   "source": [
    "run_1(User('li','li@126.com',232334))"
   ]
  },
  {
   "cell_type": "code",
   "execution_count": null,
   "metadata": {},
   "outputs": [],
   "source": [
    "#格式化输出，格式化输出可以通过类中的内置函数__repr__或__str__方法，对于大量的相似输出，可以用装饰器"
   ]
  },
  {
   "cell_type": "code",
   "execution_count": 58,
   "metadata": {},
   "outputs": [],
   "source": [
    "def print_doc(func):     #为函数添加特定的输出格式\n",
    "    wraps(func)\n",
    "    def inner(*args,**kwargs):\n",
    "        print(\"{}函数的作用是：{}\".format(func.__name__,func.__doc__))\n",
    "        return func(*args,**kwargs)\n",
    "    return inner"
   ]
  },
  {
   "cell_type": "code",
   "execution_count": 60,
   "metadata": {},
   "outputs": [
    {
     "name": "stdout",
     "output_type": "stream",
     "text": [
      "run_2函数的作用是：\n",
      "    输出所有参数的和\n",
      "    \n"
     ]
    },
    {
     "data": {
      "text/plain": [
       "15"
      ]
     },
     "execution_count": 60,
     "metadata": {},
     "output_type": "execute_result"
    }
   ],
   "source": [
    "@print_doc         #一个简单的示例，对数据加工为特定的数据格式很有用，比如转换list结构到Dataframe，JSON，array等。\n",
    "def run_2(*args):\n",
    "    \"\"\"\n",
    "    输出所有参数的和\n",
    "    \"\"\"\n",
    "    sum = 0\n",
    "    for i in args:\n",
    "        sum += i\n",
    "    return sum\n",
    "\n",
    "run_2(1,2,3,4,5)"
   ]
  },
  {
   "cell_type": "code",
   "execution_count": null,
   "metadata": {},
   "outputs": [],
   "source": [
    "#日志管理   "
   ]
  },
  {
   "cell_type": "code",
   "execution_count": 67,
   "metadata": {},
   "outputs": [],
   "source": [
    "import time\n",
    "from collections import namedtuple\n",
    "logging = namedtuple('logging',['name','time'])\n",
    "\n",
    "log = []\n",
    "def logged(func):  #这个装饰器不会对函数产生什么影响，只是将执行函数的名称和时间加入log中\n",
    "    wraps(func)\n",
    "    def inner(*args,**kwargs):\n",
    "        now = logging(func.__name__,time.ctime())\n",
    "        log.append(now)\n",
    "        return func(*args,**kwargs)\n",
    "    return inner"
   ]
  },
  {
   "cell_type": "code",
   "execution_count": 68,
   "metadata": {},
   "outputs": [
    {
     "name": "stdout",
     "output_type": "stream",
     "text": [
      "执行f3\n",
      "执行f3\n",
      "执行f2\n",
      "执行f1\n",
      "执行f1\n"
     ]
    }
   ],
   "source": [
    "@logged\n",
    "def f1():\n",
    "    print(\"执行f1\")\n",
    "    \n",
    "@logged\n",
    "def f2():\n",
    "    print(\"执行f2\")\n",
    "    \n",
    "@logged\n",
    "def f3():\n",
    "    print(\"执行f3\")\n",
    "    \n",
    "f3()\n",
    "f3()\n",
    "f2()\n",
    "f1()\n",
    "f1()"
   ]
  },
  {
   "cell_type": "code",
   "execution_count": 69,
   "metadata": {},
   "outputs": [
    {
     "data": {
      "text/plain": [
       "[logging(name='f3', time='Sun May 12 22:18:28 2019'),\n",
       " logging(name='f3', time='Sun May 12 22:18:28 2019'),\n",
       " logging(name='f2', time='Sun May 12 22:18:28 2019'),\n",
       " logging(name='f1', time='Sun May 12 22:18:28 2019'),\n",
       " logging(name='f1', time='Sun May 12 22:18:28 2019')]"
      ]
     },
     "execution_count": 69,
     "metadata": {},
     "output_type": "execute_result"
    }
   ],
   "source": [
    "log"
   ]
  },
  {
   "cell_type": "code",
   "execution_count": null,
   "metadata": {},
   "outputs": [],
   "source": []
  }
 ],
 "metadata": {
  "kernelspec": {
   "display_name": "Python 3",
   "language": "python",
   "name": "python3"
  },
  "language_info": {
   "codemirror_mode": {
    "name": "ipython",
    "version": 3
   },
   "file_extension": ".py",
   "mimetype": "text/x-python",
   "name": "python",
   "nbconvert_exporter": "python",
   "pygments_lexer": "ipython3",
   "version": "3.6.4"
  }
 },
 "nbformat": 4,
 "nbformat_minor": 2
}
