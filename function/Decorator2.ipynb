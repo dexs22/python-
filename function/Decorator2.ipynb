{
 "cells": [
  {
   "cell_type": "code",
   "execution_count": null,
   "metadata": {},
   "outputs": [],
   "source": [
    "\"\"\"\n",
    "装饰器参数\n",
    "有时候需要让装饰器自带一些信息，从而使装饰器可以用恰当的方式装饰方法十分有用。\n",
    "\"\"\""
   ]
  },
  {
   "cell_type": "code",
   "execution_count": 19,
   "metadata": {},
   "outputs": [],
   "source": [
    "from functools import wraps\n",
    "import json\n",
    "\n",
    "def json_output(indent=None,sort_keys=False): #比一般的装饰器多加了一层，在使用时加（）返回actual_decoratro\n",
    "    \"\"\"\n",
    "    带参数的装饰器，用来转换字典型数据为Json\n",
    "    参数表示了输出格式缩进，和是否按照键排序\n",
    "    \"\"\"\n",
    "    def actual_decoratro(func):\n",
    "        @wraps(func)\n",
    "        def inner(*args,**kwargs):\n",
    "            result = func(*args,**kwargs)\n",
    "            return json.dumps(result,indent=indent,sort_keys=sort_keys)\n",
    "        return inner\n",
    "    return actual_decoratro"
   ]
  },
  {
   "cell_type": "code",
   "execution_count": 20,
   "metadata": {},
   "outputs": [
    {
     "name": "stdout",
     "output_type": "stream",
     "text": [
      "{\n",
      "    \"status\": \"done\"\n",
      "}\n"
     ]
    }
   ],
   "source": [
    "@json_output(indent=4)\n",
    "def do_nothing():\n",
    "    return {'status':'done'}\n",
    "\n",
    "print(do_nothing())"
   ]
  },
  {
   "cell_type": "code",
   "execution_count": 26,
   "metadata": {},
   "outputs": [],
   "source": [
    "def add_dif_type(typ='int'):   #一个带参数的装饰器，不同的参数用来修饰不同类型数值的相加，这只是个没有多少意义的示例，最好直接调整参数类型\n",
    "    def decoratro(func):\n",
    "        wraps(func)\n",
    "        def inner(*args,**kwargs):\n",
    "            if typ=='int' or typ == 'float':\n",
    "                return func(*args,**kwargs)\n",
    "            elif typ=='str':\n",
    "                args_v = [ord(i) for i in args]\n",
    "                kwargs_v = [ord(i) for i in kwargs.values()]\n",
    "                kwargs_v = dict(zip(kwargs.keys(),kwargs_v))\n",
    "                return func(*args_v,**kwargs_v)\n",
    "            else:\n",
    "                print(\"不支持这个数据结构的运算\")\n",
    "        return inner\n",
    "    return decoratro"
   ]
  },
  {
   "cell_type": "code",
   "execution_count": 27,
   "metadata": {},
   "outputs": [
    {
     "data": {
      "text/plain": [
       "195"
      ]
     },
     "execution_count": 27,
     "metadata": {},
     "output_type": "execute_result"
    }
   ],
   "source": [
    "@add_dif_type(typ='str')\n",
    "def add_str(x,y):\n",
    "    return x+y\n",
    "\n",
    "add_str('a','b')"
   ]
  },
  {
   "cell_type": "code",
   "execution_count": 29,
   "metadata": {},
   "outputs": [
    {
     "data": {
      "text/plain": [
       "4.5"
      ]
     },
     "execution_count": 29,
     "metadata": {},
     "output_type": "execute_result"
    }
   ],
   "source": [
    "@add_dif_type('float')\n",
    "def add_float(x,y):\n",
    "    return x+y\n",
    "\n",
    "add_float(1.2,3.3)"
   ]
  },
  {
   "cell_type": "code",
   "execution_count": null,
   "metadata": {},
   "outputs": [],
   "source": [
    "\"\"\"\n",
    "装饰类\n",
    "本质上说装饰器是个接受可调用函数的可调用函数，并返回一个可调用函数。\n",
    "这意味着装饰器可以被用于装饰类和函数（毕竟类本身也是可调用函数）。\n",
    "类装饰器可以添加属性或将属性参数化，或是它可以修改一个类的API，从而使类被\n",
    "声明的方式与实例被使用的方式不同。\n",
    "\"\"\""
   ]
  },
  {
   "cell_type": "code",
   "execution_count": 43,
   "metadata": {},
   "outputs": [],
   "source": [
    "import time\n",
    "\n",
    "#为类添加一个属性，用来保存创建时间，并且添加输出的函数\n",
    "def add_creation_time(cls):   #创建一个类装饰器\n",
    "    original_init = cls.__init__  \n",
    "    \n",
    "    @wraps(original_init)\n",
    "    def new_init(self,*args,**kwargs):\n",
    "        original_init(self,*args,**kwargs)\n",
    "        self._created = time.ctime()\n",
    "    cls.__init__ = new_init      #以上都是为被装饰类添加属性\n",
    "    \n",
    "    cls.__call__= lambda self: print(\"这个函数的创建时间是{}\".format(self._created)) #重载或添加函数\n",
    "\n",
    "\n",
    "    cls.pr = lambda self:print(\"这个函数的创建时间是{}\".format(self._created)) #重载或添加函数\n",
    "    return cls"
   ]
  },
  {
   "cell_type": "code",
   "execution_count": 44,
   "metadata": {},
   "outputs": [],
   "source": [
    "@add_creation_time\n",
    "class add:\n",
    "    def __init__(self,x,y):\n",
    "        self.x = x\n",
    "        self.y = y\n",
    "    def __str__(self):\n",
    "        return str(self.x + self.y)"
   ]
  },
  {
   "cell_type": "code",
   "execution_count": 45,
   "metadata": {},
   "outputs": [
    {
     "name": "stdout",
     "output_type": "stream",
     "text": [
      "7\n"
     ]
    }
   ],
   "source": [
    "a = add(3,4)\n",
    "print(a)"
   ]
  },
  {
   "cell_type": "code",
   "execution_count": 46,
   "metadata": {},
   "outputs": [
    {
     "name": "stdout",
     "output_type": "stream",
     "text": [
      "这个函数的创建时间是Mon May 13 11:57:51 2019\n"
     ]
    }
   ],
   "source": [
    "a()"
   ]
  },
  {
   "cell_type": "code",
   "execution_count": 47,
   "metadata": {},
   "outputs": [
    {
     "name": "stdout",
     "output_type": "stream",
     "text": [
      "这个函数的创建时间是Mon May 13 11:57:51 2019\n"
     ]
    }
   ],
   "source": [
    "a.pr()"
   ]
  },
  {
   "cell_type": "code",
   "execution_count": null,
   "metadata": {},
   "outputs": [],
   "source": [
    "\"\"\"\n",
    "更复杂的应用在于函数和类的多层嵌套，作为更深层技术的挖掘\n",
    "\n",
    "\"\"\""
   ]
  }
 ],
 "metadata": {
  "kernelspec": {
   "display_name": "Python 3",
   "language": "python",
   "name": "python3"
  },
  "language_info": {
   "codemirror_mode": {
    "name": "ipython",
    "version": 3
   },
   "file_extension": ".py",
   "mimetype": "text/x-python",
   "name": "python",
   "nbconvert_exporter": "python",
   "pygments_lexer": "ipython3",
   "version": "3.6.4"
  }
 },
 "nbformat": 4,
 "nbformat_minor": 2
}
